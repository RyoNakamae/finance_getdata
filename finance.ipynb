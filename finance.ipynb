{
  "nbformat": 4,
  "nbformat_minor": 0,
  "metadata": {
    "colab": {
      "name": "finance.ipynb",
      "provenance": [],
      "collapsed_sections": [],
      "authorship_tag": "ABX9TyPlv2muBLVSGNHwEsbvztbM",
      "include_colab_link": true
    },
    "kernelspec": {
      "name": "python3",
      "display_name": "Python 3"
    },
    "language_info": {
      "name": "python"
    }
  },
  "cells": [
    {
      "cell_type": "markdown",
      "metadata": {
        "id": "view-in-github",
        "colab_type": "text"
      },
      "source": [
        "<a href=\"https://colab.research.google.com/github/RyoNakamae/finance_getdata/blob/main/finance.ipynb\" target=\"_parent\"><img src=\"https://colab.research.google.com/assets/colab-badge.svg\" alt=\"Open In Colab\"/></a>"
      ]
    },
    {
      "cell_type": "code",
      "source": [
        "!pip install yahoo_finance_api2\n"
      ],
      "metadata": {
        "colab": {
          "base_uri": "https://localhost:8080/"
        },
        "id": "XihYKm-Jh0VB",
        "outputId": "2a4ea10e-11f6-441c-afe4-9aca28755bb0"
      },
      "execution_count": null,
      "outputs": [
        {
          "output_type": "stream",
          "name": "stdout",
          "text": [
            "Collecting yahoo_finance_api2\n",
            "  Downloading yahoo_finance_api2-0.0.12.tar.gz (3.2 kB)\n",
            "Requirement already satisfied: pyyaml in /usr/local/lib/python3.7/dist-packages (from yahoo_finance_api2) (3.13)\n",
            "Requirement already satisfied: requests in /usr/local/lib/python3.7/dist-packages (from yahoo_finance_api2) (2.23.0)\n",
            "Requirement already satisfied: certifi>=2017.4.17 in /usr/local/lib/python3.7/dist-packages (from requests->yahoo_finance_api2) (2021.10.8)\n",
            "Requirement already satisfied: urllib3!=1.25.0,!=1.25.1,<1.26,>=1.21.1 in /usr/local/lib/python3.7/dist-packages (from requests->yahoo_finance_api2) (1.24.3)\n",
            "Requirement already satisfied: chardet<4,>=3.0.2 in /usr/local/lib/python3.7/dist-packages (from requests->yahoo_finance_api2) (3.0.4)\n",
            "Requirement already satisfied: idna<3,>=2.5 in /usr/local/lib/python3.7/dist-packages (from requests->yahoo_finance_api2) (2.10)\n",
            "Building wheels for collected packages: yahoo-finance-api2\n",
            "  Building wheel for yahoo-finance-api2 (setup.py) ... \u001b[?25l\u001b[?25hdone\n",
            "  Created wheel for yahoo-finance-api2: filename=yahoo_finance_api2-0.0.12-py3-none-any.whl size=3731 sha256=bb57f5482f6e8ed98a1844ab35875a8ba04b74b940c276a25a99c4a7ac3de119\n",
            "  Stored in directory: /root/.cache/pip/wheels/df/83/e1/df62dc96545acda58900be732f6eca5f34c84f28c9bd882f75\n",
            "Successfully built yahoo-finance-api2\n",
            "Installing collected packages: yahoo-finance-api2\n",
            "Successfully installed yahoo-finance-api2-0.0.12\n"
          ]
        }
      ]
    },
    {
      "cell_type": "code",
      "source": [
        "from yahoo_finance_api2 import share\n",
        "from yahoo_finance_api2.exceptions import YahooFinanceError\n",
        "import datetime as datetime\n",
        "import pandas as pd\n",
        "\n",
        "def get_data(code):\n",
        "\n",
        "  stock = share.Share(code)\n",
        "  symbol_data = None\n",
        "\n",
        "  try:\n",
        "      # get_historical(period_type, period, frequency_type, frequency)\n",
        "      symbol_data = stock.get_historical(share.PERIOD_TYPE_DAY, 10, share.FREQUENCY_TYPE_DAY, 1)\n",
        "  except YahooFinanceError as e:\n",
        "      print(f\">>> [{code}] : {e.message}\")\n",
        "      return None\n",
        "\n",
        "  # 日付処理のためにDataframeに変換\n",
        "  df_symbol_data = pd.DataFrame(symbol_data)\n",
        "  # タイムスタンプを変換\n",
        "  df_symbol_data[\"datetime\"] = pd.to_datetime(df_symbol_data.timestamp, unit=\"ms\")\n",
        "  # 日本時間へ変換\n",
        "  df_symbol_data[\"datetime_jst\"] = df_symbol_data[\"datetime\"] + datetime.timedelta(hours=9)\n",
        "  # 後でキーに使いやすいように日本時間を文字列に変換\n",
        "  df_symbol_data[\"datetime_jst_str\"] = df_symbol_data[\"datetime_jst\"].apply(lambda x: x.strftime('%Y%m%d'))\n",
        "\n",
        "  return df_symbol_data"
      ],
      "metadata": {
        "id": "aRnG6S2bhtpw"
      },
      "execution_count": null,
      "outputs": []
    },
    {
      "cell_type": "code",
      "source": [
        "# 日本株については.Tをつける：code + \".T\"\n",
        "stockList = [\"AAPL\",\"AMZN\",\"FB\",\"MSFT\",\"sdasd\",\"GOOGL\",\"4661.T\"]\n",
        "\n",
        "# とりあえずの格納先：'code_日付'をキーとし、終値を格納する\n",
        "# 取得できなかった場合はSKIPする\n",
        "dic_stock = {}\n",
        "for code in stockList:\n",
        "  res = get_data(code)\n",
        "  if(res is None):\n",
        "    print(f\">>> [{code}] : NoData : SKIP\")\n",
        "    continue\n",
        "\n",
        "  print(code)\n",
        "  # 終値\n",
        "  num = len(res)\n",
        "  for index in range(len(res)):\n",
        "    dic_target = res[index:index+1].to_dict()\n",
        "    dic_stock[code + \"_\" + dic_target[\"datetime_jst_str\"][index]] = dic_target[\"close\"][index]\n",
        "\n",
        "print(dic_stock)"
      ],
      "metadata": {
        "colab": {
          "base_uri": "https://localhost:8080/"
        },
        "id": "xNdlXAQEkbiJ",
        "outputId": "dc07f02e-b057-4ef4-d4e7-52a716075637"
      },
      "execution_count": null,
      "outputs": [
        {
          "output_type": "stream",
          "name": "stdout",
          "text": [
            "AAPL\n",
            "AMZN\n",
            "FB\n",
            "MSFT\n",
            ">>> [sdasd] : Not Found: No data found, symbol may be delisted\n",
            ">>> [sdasd] : NoData : SKIP\n",
            "GOOGL\n",
            "4661.T\n",
            "{'AAPL_20220127': 159.22000122070312, 'AAPL_20220128': 170.3300018310547, 'AAPL_20220131': 174.77999877929688, 'AAPL_20220201': 174.61000061035156, 'AAPL_20220202': 175.83999633789062, 'AAPL_20220203': 172.89999389648438, 'AAPL_20220204': 172.38999938964844, 'AMZN_20220127': 2792.75, 'AMZN_20220128': 2879.56005859375, 'AMZN_20220131': 2991.469970703125, 'AMZN_20220201': 3023.8701171875, 'AMZN_20220202': 3012.25, 'AMZN_20220203': 2776.909912109375, 'AMZN_20220204': 3152.7900390625, 'FB_20220127': 294.6400146484375, 'FB_20220128': 301.7099914550781, 'FB_20220131': 313.260009765625, 'FB_20220201': 319.0, 'FB_20220202': 323.0, 'FB_20220203': 237.75999450683594, 'FB_20220204': 237.08999633789062, 'MSFT_20220127': 299.8399963378906, 'MSFT_20220128': 308.260009765625, 'MSFT_20220131': 310.9800109863281, 'MSFT_20220201': 308.760009765625, 'MSFT_20220202': 313.4599914550781, 'MSFT_20220203': 301.25, 'MSFT_20220204': 305.94000244140625, 'GOOGL_20220127': 2580.10009765625, 'GOOGL_20220128': 2667.02001953125, 'GOOGL_20220131': 2706.070068359375, 'GOOGL_20220201': 2752.8798828125, 'GOOGL_20220202': 2960.0, 'GOOGL_20220203': 2861.800048828125, 'GOOGL_20220204': 2865.860107421875, '4661.T_20220127': 18380.0, '4661.T_20220128': 18780.0, '4661.T_20220131': 19880.0, '4661.T_20220201': 19955.0, '4661.T_20220202': 20245.0, '4661.T_20220203': 20285.0, '4661.T_20220204': 20915.0}\n"
          ]
        }
      ]
    },
    {
      "cell_type": "code",
      "source": [
        ""
      ],
      "metadata": {
        "id": "omw1Jy50wOmi"
      },
      "execution_count": null,
      "outputs": []
    }
  ]
}